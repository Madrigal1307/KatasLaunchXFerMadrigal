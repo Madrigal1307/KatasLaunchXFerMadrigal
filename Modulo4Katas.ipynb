{
 "cells": [
  {
   "cell_type": "code",
   "execution_count": null,
   "metadata": {},
   "outputs": [],
   "source": []
  },
  {
   "cell_type": "markdown",
   "metadata": {},
   "source": [
    "# Ejercicio 1: Transformar cadenas"
   ]
  },
  {
   "cell_type": "code",
   "execution_count": 6,
   "metadata": {},
   "outputs": [
    {
     "name": "stdout",
     "output_type": "stream",
     "text": [
      " \n",
      "On average, the Moon moves 4cm away from the Earth every year\n",
      " \n",
      "On average, the Moon moves 4cm away from the Earth every year\n"
     ]
    }
   ],
   "source": [
    "text = \"\"\"Interesting facts about the Moon. The Moon is Earth's only satellite. There are several interesting facts about the Moon and how it affects life here on Earth. \n",
    "On average, the Moon moves 4cm away from the Earth every year. This yearly drift is not significant enough to cause immediat\"\"\"\n",
    "oraciones = text.split('.')\n",
    "oraciones\n",
    "\n",
    "palabrasClave = [\"average\",\"temperature\",\"distance\"]\n",
    "for oracion in oraciones:\n",
    "    for palabraClave in palabrasClave:\n",
    "        if palabraClave in oracion:\n",
    "            print(oracion)\n",
    "            break\n",
    "for oracion in oraciones:\n",
    "    for palabraClave in palabrasClave:\n",
    "        if palabraClave in oracion:\n",
    "            print(oracion.replace(' C',' Celsius'))\n",
    "            break"
   ]
  },
  {
   "cell_type": "markdown",
   "metadata": {},
   "source": [
    "# Ejercicio 2: Formateando Cadenas"
   ]
  },
  {
   "cell_type": "code",
   "execution_count": 24,
   "metadata": {},
   "outputs": [
    {
     "name": "stdout",
     "output_type": "stream",
     "text": [
      "Gravity On The Moon And Earth\n",
      "--------------------------------------------------\n",
      " Planet Name: Earth\n",
      " Gravity on Moon: 1.6199999999999999 m/s2\n",
      "\n",
      "Gravity On The Moon And Earth\n",
      "--------------------------------------------------\n",
      " Planet Name: Earth\n",
      " Gravity on Moon: 1.6199999999999999 m/s2\n",
      "\n",
      "Gravity on the Ganímedes and Marte  \n",
      "-------------------------------------------------------------\n",
      "Planet name: Marte \n",
      "Gravity on Ganímedes: 1.4300000000000002 m/s2\n"
     ]
    }
   ],
   "source": [
    "# Datos con los que vas a trabajar\n",
    "name = \"Moon\"\n",
    "gravity = 0.00162 # in kms\n",
    "planet = \"Earth\"\n",
    "\n",
    "titulo = f'Gravity on the {name} and {planet}'\n",
    "plantilla = f\"{'-'*50}\\n Planet Name: {planet}\\n Gravity on {name}: {gravity*1000} m/s2\"\n",
    "plantillaFinal = f\"\"\"{titulo.title()}\n",
    "{plantilla}\n",
    "\"\"\"\n",
    "print(plantillaFinal)\n",
    "planeta = 'Marte '\n",
    "gravedad  = 0.00143\n",
    "nombre = 'Ganímedes'\n",
    "print(plantillaFinal)\n",
    "\n",
    "\n",
    "plantillaNueva = \"\"\"Gravity on the {nombre} and {planeta} \n",
    "-------------------------------------------------------------\n",
    "Planet name: {planeta}\n",
    "Gravity on {nombre}: {gravedad} m/s2\"\"\"\n",
    "print (plantillaNueva.format(nombre=nombre,planeta=planeta,gravedad=gravedad*1000))\n"
   ]
  }
 ],
 "metadata": {
  "interpreter": {
   "hash": "791d555690748ca0d713702ed6f2dff6544d7fd672a7cde5e2605f23624aace6"
  },
  "kernelspec": {
   "display_name": "Python 3.10.2 64-bit",
   "language": "python",
   "name": "python3"
  },
  "language_info": {
   "codemirror_mode": {
    "name": "ipython",
    "version": 3
   },
   "file_extension": ".py",
   "mimetype": "text/x-python",
   "name": "python",
   "nbconvert_exporter": "python",
   "pygments_lexer": "ipython3",
   "version": "3.10.2"
  },
  "orig_nbformat": 4
 },
 "nbformat": 4,
 "nbformat_minor": 2
}

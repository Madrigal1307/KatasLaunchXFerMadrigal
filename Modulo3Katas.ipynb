{
 "cells": [
  {
   "cell_type": "markdown",
   "metadata": {},
   "source": [
    "# Un asteroide se acerca, y viaja a una velocidad de 49 km/s."
   ]
  },
  {
   "cell_type": "markdown",
   "metadata": {},
   "source": [
    "-Añadir el código necesario para crear una variable que guarde la velocidad del asteroide.\n",
    "-Escribe una expresión de prueba para calcular si necesita una advertencia.\n",
    "-Agregue las instrucciones que se ejecutarán si la expresión de prueba es true o false."
   ]
  },
  {
   "cell_type": "code",
   "execution_count": 6,
   "metadata": {},
   "outputs": [
    {
     "name": "stdout",
     "output_type": "stream",
     "text": [
      "un asteroide se acerca a la Tierra demasiado rápido\n"
     ]
    }
   ],
   "source": [
    "velocidad_ateroide=49\n",
    "if velocidad_ateroide > 25:\n",
    "    print(\"un asteroide se acerca a la Tierra demasiado rápido\")\n",
    "else:\n",
    "    print(\"El asteroide viene a una velocidad normal\")"
   ]
  },
  {
   "cell_type": "markdown",
   "metadata": {},
   "source": [
    "Si un asteroide entra en la atmósfera de la Tierra a una velocidad mayor o igual a 20 km/s, a veces produce un rayo de luz que se puede ver desde la Tierra. Escribe la lógica condicional que usa declaraciones if, else, y elif para alertar a las personas de todo el mundo que deben buscar un asteroide en el cielo. ¡Hay uno que se dirige a la tierra ahora a una velocidad de 19 km/s!"
   ]
  },
  {
   "cell_type": "code",
   "execution_count": 2,
   "metadata": {},
   "outputs": [
    {
     "name": "stdout",
     "output_type": "stream",
     "text": [
      "¡Hay un asteroide que se dirige a la tierra ahora a una velocidad de 19 km/s!\n"
     ]
    }
   ],
   "source": [
    "velocidad_ateroide2 = 19\n",
    "if velocidad_ateroide2 >= 20:\n",
    "    print(\"Busca el rayo de luz desde la tierra\")\n",
    "elif velocidad_ateroide2 == 19:\n",
    "    print(\"¡Hay un asteroide que se dirige a la tierra ahora a una velocidad de 19 km/s!\")\n",
    "else:\n",
    "    print(\"¡Hay un asteroide que se dirige a la tierra ahora a una velocidad menor de 19 km/s!\")"
   ]
  },
  {
   "cell_type": "markdown",
   "metadata": {},
   "source": [
    "#Agrega el código para crear nuevas variables para la velocidad y el tamaño del asteroide\n",
    "#Para probar el código, prueba con varias velocidades y tamaños\n",
    "#Escribe varias expresiones de prueba o combinaciones de expresiones de prueba para determinar qué mensaje se debe enviar"
   ]
  },
  {
   "cell_type": "code",
   "execution_count": 5,
   "metadata": {},
   "outputs": [
    {
     "name": "stdout",
     "output_type": "stream",
     "text": [
      "¡Hay un asteroide que se dirige a la tierra ahora a una velocidad de 19 km/s pero es muy peligroso! Su tamaño es de:100\n"
     ]
    }
   ],
   "source": [
    "velocidad_ateroide2 = 19\n",
    "tamano_asteroide = 100\n",
    "if velocidad_ateroide2 >= 20:\n",
    "    print(\"Busca el rayo de luz desde la tierra\")\n",
    "elif velocidad_ateroide2 == 19 and tamano_asteroide > 25 and tamano_asteroide < 1000:\n",
    "    print(\"¡Hay un asteroide que se dirige a la tierra ahora a una velocidad de 19 km/s pero es muy peligroso! Su tamaño es de:\"+str(tamano_asteroide))\n",
    "else:\n",
    "    print(\"¡Hay un asteroide que se dirige a la tierra ahora a una velocidad menor de 19 km/s!\")"
   ]
  }
 ],
 "metadata": {
  "interpreter": {
   "hash": "791d555690748ca0d713702ed6f2dff6544d7fd672a7cde5e2605f23624aace6"
  },
  "kernelspec": {
   "display_name": "Python 3.10.2 64-bit",
   "language": "python",
   "name": "python3"
  },
  "language_info": {
   "codemirror_mode": {
    "name": "ipython",
    "version": 3
   },
   "file_extension": ".py",
   "mimetype": "text/x-python",
   "name": "python",
   "nbconvert_exporter": "python",
   "pygments_lexer": "ipython3",
   "version": "3.10.2"
  },
  "orig_nbformat": 4
 },
 "nbformat": 4,
 "nbformat_minor": 2
}
